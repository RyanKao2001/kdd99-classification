{
 "cells": [
  {
   "cell_type": "markdown",
   "source": [
    "# 实验说明\n",
    "1. 通过对DNN与CNN对KDD99入侵检测数据集的分类，探究DNN与CNN模型对其分类的准确度\n",
    "2. 实验过程分为数据预处理、定义训练参数、DNN分类、CNN分类"
   ],
   "metadata": {
    "collapsed": false
   }
  },
  {
   "cell_type": "code",
   "execution_count": 1,
   "metadata": {
    "collapsed": true
   },
   "outputs": [],
   "source": [
    "import os\n",
    "\n",
    "import torch\n",
    "from torch import nn\n",
    "from torchvision.transforms import ToTensor\n",
    "from torch.utils.data import DataLoader\n",
    "from torch.utils.data import Dataset\n",
    "\n",
    "import sklearn\n",
    "import pandas as pd\n",
    "import numpy as np\n",
    "import matplotlib.pyplot as plt\n",
    "\n",
    "from sklearn.model_selection import train_test_split\n",
    "from sklearn.preprocessing import MinMaxScaler\n",
    "from sklearn.preprocessing import LabelEncoder"
   ]
  },
  {
   "cell_type": "markdown",
   "source": [
    "# 1 数据预处理\n",
    "## 1.1 pandas导入数据"
   ],
   "metadata": {
    "collapsed": false
   }
  },
  {
   "cell_type": "code",
   "execution_count": 2,
   "outputs": [],
   "source": [
    "df = pd.read_csv('../../data/KDD99/kddcup.data_10_percent_corrected')"
   ],
   "metadata": {
    "collapsed": false
   }
  },
  {
   "cell_type": "code",
   "execution_count": 3,
   "outputs": [],
   "source": [
    "df.columns = [\n",
    "    'duration',\n",
    "    'protocol_type',\n",
    "    'service',\n",
    "    'flag',\n",
    "    'src_bytes',\n",
    "    'dst_bytes',\n",
    "    'land',\n",
    "    'wrong_fragment',\n",
    "    'urgent',\n",
    "    'hot',\n",
    "    'num_failed_logins',\n",
    "    'logged_in',\n",
    "    'num_compromised',\n",
    "    'root_shell',\n",
    "    'su_attempted',\n",
    "    'num_root',\n",
    "    'num_file_creations',\n",
    "    'num_shells',\n",
    "    'num_access_files',\n",
    "    'num_outbound_cmds',\n",
    "    'is_host_login',\n",
    "    'is_guest_login',\n",
    "    'count',\n",
    "    'srv_count',\n",
    "    'serror_rate',\n",
    "    'srv_serror_rate',\n",
    "    'rerror_rate',\n",
    "    'srv_rerror_rate',\n",
    "    'same_srv_rate',\n",
    "    'diff_srv_rate',\n",
    "    'srv_diff_host_rate',\n",
    "    'dst_host_count',\n",
    "    'dst_host_srv_count',\n",
    "    'dst_host_same_srv_rate',\n",
    "    'dst_host_diff_srv_rate',\n",
    "    'dst_host_same_src_port_rate',\n",
    "    'dst_host_srv_diff_host_rate',\n",
    "    'dst_host_serror_rate',\n",
    "    'dst_host_srv_serror_rate',\n",
    "    'dst_host_rerror_rate',\n",
    "    'dst_host_srv_rerror_rate',\n",
    "    'label'\n",
    "]"
   ],
   "metadata": {
    "collapsed": false
   }
  },
  {
   "cell_type": "code",
   "execution_count": 4,
   "outputs": [
    {
     "data": {
      "text/plain": "        duration protocol_type service flag  src_bytes  dst_bytes  land  \\\n0              0           tcp    http   SF        239        486     0   \n1              0           tcp    http   SF        235       1337     0   \n2              0           tcp    http   SF        219       1337     0   \n3              0           tcp    http   SF        217       2032     0   \n4              0           tcp    http   SF        217       2032     0   \n...          ...           ...     ...  ...        ...        ...   ...   \n494015         0           tcp    http   SF        310       1881     0   \n494016         0           tcp    http   SF        282       2286     0   \n494017         0           tcp    http   SF        203       1200     0   \n494018         0           tcp    http   SF        291       1200     0   \n494019         0           tcp    http   SF        219       1234     0   \n\n        wrong_fragment  urgent  hot  ...  dst_host_srv_count  \\\n0                    0       0    0  ...                  19   \n1                    0       0    0  ...                  29   \n2                    0       0    0  ...                  39   \n3                    0       0    0  ...                  49   \n4                    0       0    0  ...                  59   \n...                ...     ...  ...  ...                 ...   \n494015               0       0    0  ...                 255   \n494016               0       0    0  ...                 255   \n494017               0       0    0  ...                 255   \n494018               0       0    0  ...                 255   \n494019               0       0    0  ...                 255   \n\n        dst_host_same_srv_rate  dst_host_diff_srv_rate  \\\n0                          1.0                     0.0   \n1                          1.0                     0.0   \n2                          1.0                     0.0   \n3                          1.0                     0.0   \n4                          1.0                     0.0   \n...                        ...                     ...   \n494015                     1.0                     0.0   \n494016                     1.0                     0.0   \n494017                     1.0                     0.0   \n494018                     1.0                     0.0   \n494019                     1.0                     0.0   \n\n        dst_host_same_src_port_rate  dst_host_srv_diff_host_rate  \\\n0                              0.05                         0.00   \n1                              0.03                         0.00   \n2                              0.03                         0.00   \n3                              0.02                         0.00   \n4                              0.02                         0.00   \n...                             ...                          ...   \n494015                         0.01                         0.05   \n494016                         0.17                         0.05   \n494017                         0.06                         0.05   \n494018                         0.04                         0.05   \n494019                         0.17                         0.05   \n\n        dst_host_serror_rate  dst_host_srv_serror_rate  dst_host_rerror_rate  \\\n0                       0.00                      0.00                   0.0   \n1                       0.00                      0.00                   0.0   \n2                       0.00                      0.00                   0.0   \n3                       0.00                      0.00                   0.0   \n4                       0.00                      0.00                   0.0   \n...                      ...                       ...                   ...   \n494015                  0.00                      0.01                   0.0   \n494016                  0.00                      0.01                   0.0   \n494017                  0.06                      0.01                   0.0   \n494018                  0.04                      0.01                   0.0   \n494019                  0.00                      0.01                   0.0   \n\n        dst_host_srv_rerror_rate    label  \n0                            0.0  normal.  \n1                            0.0  normal.  \n2                            0.0  normal.  \n3                            0.0  normal.  \n4                            0.0  normal.  \n...                          ...      ...  \n494015                       0.0  normal.  \n494016                       0.0  normal.  \n494017                       0.0  normal.  \n494018                       0.0  normal.  \n494019                       0.0  normal.  \n\n[494020 rows x 42 columns]",
      "text/html": "<div>\n<style scoped>\n    .dataframe tbody tr th:only-of-type {\n        vertical-align: middle;\n    }\n\n    .dataframe tbody tr th {\n        vertical-align: top;\n    }\n\n    .dataframe thead th {\n        text-align: right;\n    }\n</style>\n<table border=\"1\" class=\"dataframe\">\n  <thead>\n    <tr style=\"text-align: right;\">\n      <th></th>\n      <th>duration</th>\n      <th>protocol_type</th>\n      <th>service</th>\n      <th>flag</th>\n      <th>src_bytes</th>\n      <th>dst_bytes</th>\n      <th>land</th>\n      <th>wrong_fragment</th>\n      <th>urgent</th>\n      <th>hot</th>\n      <th>...</th>\n      <th>dst_host_srv_count</th>\n      <th>dst_host_same_srv_rate</th>\n      <th>dst_host_diff_srv_rate</th>\n      <th>dst_host_same_src_port_rate</th>\n      <th>dst_host_srv_diff_host_rate</th>\n      <th>dst_host_serror_rate</th>\n      <th>dst_host_srv_serror_rate</th>\n      <th>dst_host_rerror_rate</th>\n      <th>dst_host_srv_rerror_rate</th>\n      <th>label</th>\n    </tr>\n  </thead>\n  <tbody>\n    <tr>\n      <th>0</th>\n      <td>0</td>\n      <td>tcp</td>\n      <td>http</td>\n      <td>SF</td>\n      <td>239</td>\n      <td>486</td>\n      <td>0</td>\n      <td>0</td>\n      <td>0</td>\n      <td>0</td>\n      <td>...</td>\n      <td>19</td>\n      <td>1.0</td>\n      <td>0.0</td>\n      <td>0.05</td>\n      <td>0.00</td>\n      <td>0.00</td>\n      <td>0.00</td>\n      <td>0.0</td>\n      <td>0.0</td>\n      <td>normal.</td>\n    </tr>\n    <tr>\n      <th>1</th>\n      <td>0</td>\n      <td>tcp</td>\n      <td>http</td>\n      <td>SF</td>\n      <td>235</td>\n      <td>1337</td>\n      <td>0</td>\n      <td>0</td>\n      <td>0</td>\n      <td>0</td>\n      <td>...</td>\n      <td>29</td>\n      <td>1.0</td>\n      <td>0.0</td>\n      <td>0.03</td>\n      <td>0.00</td>\n      <td>0.00</td>\n      <td>0.00</td>\n      <td>0.0</td>\n      <td>0.0</td>\n      <td>normal.</td>\n    </tr>\n    <tr>\n      <th>2</th>\n      <td>0</td>\n      <td>tcp</td>\n      <td>http</td>\n      <td>SF</td>\n      <td>219</td>\n      <td>1337</td>\n      <td>0</td>\n      <td>0</td>\n      <td>0</td>\n      <td>0</td>\n      <td>...</td>\n      <td>39</td>\n      <td>1.0</td>\n      <td>0.0</td>\n      <td>0.03</td>\n      <td>0.00</td>\n      <td>0.00</td>\n      <td>0.00</td>\n      <td>0.0</td>\n      <td>0.0</td>\n      <td>normal.</td>\n    </tr>\n    <tr>\n      <th>3</th>\n      <td>0</td>\n      <td>tcp</td>\n      <td>http</td>\n      <td>SF</td>\n      <td>217</td>\n      <td>2032</td>\n      <td>0</td>\n      <td>0</td>\n      <td>0</td>\n      <td>0</td>\n      <td>...</td>\n      <td>49</td>\n      <td>1.0</td>\n      <td>0.0</td>\n      <td>0.02</td>\n      <td>0.00</td>\n      <td>0.00</td>\n      <td>0.00</td>\n      <td>0.0</td>\n      <td>0.0</td>\n      <td>normal.</td>\n    </tr>\n    <tr>\n      <th>4</th>\n      <td>0</td>\n      <td>tcp</td>\n      <td>http</td>\n      <td>SF</td>\n      <td>217</td>\n      <td>2032</td>\n      <td>0</td>\n      <td>0</td>\n      <td>0</td>\n      <td>0</td>\n      <td>...</td>\n      <td>59</td>\n      <td>1.0</td>\n      <td>0.0</td>\n      <td>0.02</td>\n      <td>0.00</td>\n      <td>0.00</td>\n      <td>0.00</td>\n      <td>0.0</td>\n      <td>0.0</td>\n      <td>normal.</td>\n    </tr>\n    <tr>\n      <th>...</th>\n      <td>...</td>\n      <td>...</td>\n      <td>...</td>\n      <td>...</td>\n      <td>...</td>\n      <td>...</td>\n      <td>...</td>\n      <td>...</td>\n      <td>...</td>\n      <td>...</td>\n      <td>...</td>\n      <td>...</td>\n      <td>...</td>\n      <td>...</td>\n      <td>...</td>\n      <td>...</td>\n      <td>...</td>\n      <td>...</td>\n      <td>...</td>\n      <td>...</td>\n      <td>...</td>\n    </tr>\n    <tr>\n      <th>494015</th>\n      <td>0</td>\n      <td>tcp</td>\n      <td>http</td>\n      <td>SF</td>\n      <td>310</td>\n      <td>1881</td>\n      <td>0</td>\n      <td>0</td>\n      <td>0</td>\n      <td>0</td>\n      <td>...</td>\n      <td>255</td>\n      <td>1.0</td>\n      <td>0.0</td>\n      <td>0.01</td>\n      <td>0.05</td>\n      <td>0.00</td>\n      <td>0.01</td>\n      <td>0.0</td>\n      <td>0.0</td>\n      <td>normal.</td>\n    </tr>\n    <tr>\n      <th>494016</th>\n      <td>0</td>\n      <td>tcp</td>\n      <td>http</td>\n      <td>SF</td>\n      <td>282</td>\n      <td>2286</td>\n      <td>0</td>\n      <td>0</td>\n      <td>0</td>\n      <td>0</td>\n      <td>...</td>\n      <td>255</td>\n      <td>1.0</td>\n      <td>0.0</td>\n      <td>0.17</td>\n      <td>0.05</td>\n      <td>0.00</td>\n      <td>0.01</td>\n      <td>0.0</td>\n      <td>0.0</td>\n      <td>normal.</td>\n    </tr>\n    <tr>\n      <th>494017</th>\n      <td>0</td>\n      <td>tcp</td>\n      <td>http</td>\n      <td>SF</td>\n      <td>203</td>\n      <td>1200</td>\n      <td>0</td>\n      <td>0</td>\n      <td>0</td>\n      <td>0</td>\n      <td>...</td>\n      <td>255</td>\n      <td>1.0</td>\n      <td>0.0</td>\n      <td>0.06</td>\n      <td>0.05</td>\n      <td>0.06</td>\n      <td>0.01</td>\n      <td>0.0</td>\n      <td>0.0</td>\n      <td>normal.</td>\n    </tr>\n    <tr>\n      <th>494018</th>\n      <td>0</td>\n      <td>tcp</td>\n      <td>http</td>\n      <td>SF</td>\n      <td>291</td>\n      <td>1200</td>\n      <td>0</td>\n      <td>0</td>\n      <td>0</td>\n      <td>0</td>\n      <td>...</td>\n      <td>255</td>\n      <td>1.0</td>\n      <td>0.0</td>\n      <td>0.04</td>\n      <td>0.05</td>\n      <td>0.04</td>\n      <td>0.01</td>\n      <td>0.0</td>\n      <td>0.0</td>\n      <td>normal.</td>\n    </tr>\n    <tr>\n      <th>494019</th>\n      <td>0</td>\n      <td>tcp</td>\n      <td>http</td>\n      <td>SF</td>\n      <td>219</td>\n      <td>1234</td>\n      <td>0</td>\n      <td>0</td>\n      <td>0</td>\n      <td>0</td>\n      <td>...</td>\n      <td>255</td>\n      <td>1.0</td>\n      <td>0.0</td>\n      <td>0.17</td>\n      <td>0.05</td>\n      <td>0.00</td>\n      <td>0.01</td>\n      <td>0.0</td>\n      <td>0.0</td>\n      <td>normal.</td>\n    </tr>\n  </tbody>\n</table>\n<p>494020 rows × 42 columns</p>\n</div>"
     },
     "execution_count": 4,
     "metadata": {},
     "output_type": "execute_result"
    }
   ],
   "source": [
    "df"
   ],
   "metadata": {
    "collapsed": false
   }
  },
  {
   "cell_type": "markdown",
   "source": [
    "## 1.2 one-hot编码"
   ],
   "metadata": {
    "collapsed": false
   }
  },
  {
   "cell_type": "code",
   "execution_count": 5,
   "outputs": [],
   "source": [
    "# 数值列\n",
    "number_col = df.select_dtypes(include=['number']).columns\n",
    "# 分类变量\n",
    "cat_col = df.columns.difference(number_col)\n",
    "cat_col = cat_col.drop('label')\n",
    "# 将分类变量筛选出来\n",
    "df_cat = df[cat_col].copy()"
   ],
   "metadata": {
    "collapsed": false
   }
  },
  {
   "cell_type": "code",
   "execution_count": 6,
   "outputs": [],
   "source": [
    "# one-hot编码\n",
    "one_hot_data = pd.get_dummies(df_cat, columns=cat_col)\n",
    "\n",
    "# 将原数据的分类变量去掉\n",
    "one_hot_df = pd.concat([df, one_hot_data],axis=1)\n",
    "one_hot_df.drop(columns=cat_col, inplace=True)"
   ],
   "metadata": {
    "collapsed": false
   }
  },
  {
   "cell_type": "code",
   "execution_count": 7,
   "outputs": [
    {
     "data": {
      "text/plain": "        duration  src_bytes  dst_bytes  land  wrong_fragment  urgent  hot  \\\n0              0        239        486     0               0       0    0   \n1              0        235       1337     0               0       0    0   \n2              0        219       1337     0               0       0    0   \n3              0        217       2032     0               0       0    0   \n4              0        217       2032     0               0       0    0   \n...          ...        ...        ...   ...             ...     ...  ...   \n494015         0        310       1881     0               0       0    0   \n494016         0        282       2286     0               0       0    0   \n494017         0        203       1200     0               0       0    0   \n494018         0        291       1200     0               0       0    0   \n494019         0        219       1234     0               0       0    0   \n\n        num_failed_logins  logged_in  num_compromised  ...  service_telnet  \\\n0                       0          1                0  ...               0   \n1                       0          1                0  ...               0   \n2                       0          1                0  ...               0   \n3                       0          1                0  ...               0   \n4                       0          1                0  ...               0   \n...                   ...        ...              ...  ...             ...   \n494015                  0          1                0  ...               0   \n494016                  0          1                0  ...               0   \n494017                  0          1                0  ...               0   \n494018                  0          1                0  ...               0   \n494019                  0          1                0  ...               0   \n\n        service_tftp_u  service_tim_i  service_time  service_urh_i  \\\n0                    0              0             0              0   \n1                    0              0             0              0   \n2                    0              0             0              0   \n3                    0              0             0              0   \n4                    0              0             0              0   \n...                ...            ...           ...            ...   \n494015               0              0             0              0   \n494016               0              0             0              0   \n494017               0              0             0              0   \n494018               0              0             0              0   \n494019               0              0             0              0   \n\n        service_urp_i  service_uucp  service_uucp_path  service_vmnet  \\\n0                   0             0                  0              0   \n1                   0             0                  0              0   \n2                   0             0                  0              0   \n3                   0             0                  0              0   \n4                   0             0                  0              0   \n...               ...           ...                ...            ...   \n494015              0             0                  0              0   \n494016              0             0                  0              0   \n494017              0             0                  0              0   \n494018              0             0                  0              0   \n494019              0             0                  0              0   \n\n        service_whois  \n0                   0  \n1                   0  \n2                   0  \n3                   0  \n4                   0  \n...               ...  \n494015              0  \n494016              0  \n494017              0  \n494018              0  \n494019              0  \n\n[494020 rows x 119 columns]",
      "text/html": "<div>\n<style scoped>\n    .dataframe tbody tr th:only-of-type {\n        vertical-align: middle;\n    }\n\n    .dataframe tbody tr th {\n        vertical-align: top;\n    }\n\n    .dataframe thead th {\n        text-align: right;\n    }\n</style>\n<table border=\"1\" class=\"dataframe\">\n  <thead>\n    <tr style=\"text-align: right;\">\n      <th></th>\n      <th>duration</th>\n      <th>src_bytes</th>\n      <th>dst_bytes</th>\n      <th>land</th>\n      <th>wrong_fragment</th>\n      <th>urgent</th>\n      <th>hot</th>\n      <th>num_failed_logins</th>\n      <th>logged_in</th>\n      <th>num_compromised</th>\n      <th>...</th>\n      <th>service_telnet</th>\n      <th>service_tftp_u</th>\n      <th>service_tim_i</th>\n      <th>service_time</th>\n      <th>service_urh_i</th>\n      <th>service_urp_i</th>\n      <th>service_uucp</th>\n      <th>service_uucp_path</th>\n      <th>service_vmnet</th>\n      <th>service_whois</th>\n    </tr>\n  </thead>\n  <tbody>\n    <tr>\n      <th>0</th>\n      <td>0</td>\n      <td>239</td>\n      <td>486</td>\n      <td>0</td>\n      <td>0</td>\n      <td>0</td>\n      <td>0</td>\n      <td>0</td>\n      <td>1</td>\n      <td>0</td>\n      <td>...</td>\n      <td>0</td>\n      <td>0</td>\n      <td>0</td>\n      <td>0</td>\n      <td>0</td>\n      <td>0</td>\n      <td>0</td>\n      <td>0</td>\n      <td>0</td>\n      <td>0</td>\n    </tr>\n    <tr>\n      <th>1</th>\n      <td>0</td>\n      <td>235</td>\n      <td>1337</td>\n      <td>0</td>\n      <td>0</td>\n      <td>0</td>\n      <td>0</td>\n      <td>0</td>\n      <td>1</td>\n      <td>0</td>\n      <td>...</td>\n      <td>0</td>\n      <td>0</td>\n      <td>0</td>\n      <td>0</td>\n      <td>0</td>\n      <td>0</td>\n      <td>0</td>\n      <td>0</td>\n      <td>0</td>\n      <td>0</td>\n    </tr>\n    <tr>\n      <th>2</th>\n      <td>0</td>\n      <td>219</td>\n      <td>1337</td>\n      <td>0</td>\n      <td>0</td>\n      <td>0</td>\n      <td>0</td>\n      <td>0</td>\n      <td>1</td>\n      <td>0</td>\n      <td>...</td>\n      <td>0</td>\n      <td>0</td>\n      <td>0</td>\n      <td>0</td>\n      <td>0</td>\n      <td>0</td>\n      <td>0</td>\n      <td>0</td>\n      <td>0</td>\n      <td>0</td>\n    </tr>\n    <tr>\n      <th>3</th>\n      <td>0</td>\n      <td>217</td>\n      <td>2032</td>\n      <td>0</td>\n      <td>0</td>\n      <td>0</td>\n      <td>0</td>\n      <td>0</td>\n      <td>1</td>\n      <td>0</td>\n      <td>...</td>\n      <td>0</td>\n      <td>0</td>\n      <td>0</td>\n      <td>0</td>\n      <td>0</td>\n      <td>0</td>\n      <td>0</td>\n      <td>0</td>\n      <td>0</td>\n      <td>0</td>\n    </tr>\n    <tr>\n      <th>4</th>\n      <td>0</td>\n      <td>217</td>\n      <td>2032</td>\n      <td>0</td>\n      <td>0</td>\n      <td>0</td>\n      <td>0</td>\n      <td>0</td>\n      <td>1</td>\n      <td>0</td>\n      <td>...</td>\n      <td>0</td>\n      <td>0</td>\n      <td>0</td>\n      <td>0</td>\n      <td>0</td>\n      <td>0</td>\n      <td>0</td>\n      <td>0</td>\n      <td>0</td>\n      <td>0</td>\n    </tr>\n    <tr>\n      <th>...</th>\n      <td>...</td>\n      <td>...</td>\n      <td>...</td>\n      <td>...</td>\n      <td>...</td>\n      <td>...</td>\n      <td>...</td>\n      <td>...</td>\n      <td>...</td>\n      <td>...</td>\n      <td>...</td>\n      <td>...</td>\n      <td>...</td>\n      <td>...</td>\n      <td>...</td>\n      <td>...</td>\n      <td>...</td>\n      <td>...</td>\n      <td>...</td>\n      <td>...</td>\n      <td>...</td>\n    </tr>\n    <tr>\n      <th>494015</th>\n      <td>0</td>\n      <td>310</td>\n      <td>1881</td>\n      <td>0</td>\n      <td>0</td>\n      <td>0</td>\n      <td>0</td>\n      <td>0</td>\n      <td>1</td>\n      <td>0</td>\n      <td>...</td>\n      <td>0</td>\n      <td>0</td>\n      <td>0</td>\n      <td>0</td>\n      <td>0</td>\n      <td>0</td>\n      <td>0</td>\n      <td>0</td>\n      <td>0</td>\n      <td>0</td>\n    </tr>\n    <tr>\n      <th>494016</th>\n      <td>0</td>\n      <td>282</td>\n      <td>2286</td>\n      <td>0</td>\n      <td>0</td>\n      <td>0</td>\n      <td>0</td>\n      <td>0</td>\n      <td>1</td>\n      <td>0</td>\n      <td>...</td>\n      <td>0</td>\n      <td>0</td>\n      <td>0</td>\n      <td>0</td>\n      <td>0</td>\n      <td>0</td>\n      <td>0</td>\n      <td>0</td>\n      <td>0</td>\n      <td>0</td>\n    </tr>\n    <tr>\n      <th>494017</th>\n      <td>0</td>\n      <td>203</td>\n      <td>1200</td>\n      <td>0</td>\n      <td>0</td>\n      <td>0</td>\n      <td>0</td>\n      <td>0</td>\n      <td>1</td>\n      <td>0</td>\n      <td>...</td>\n      <td>0</td>\n      <td>0</td>\n      <td>0</td>\n      <td>0</td>\n      <td>0</td>\n      <td>0</td>\n      <td>0</td>\n      <td>0</td>\n      <td>0</td>\n      <td>0</td>\n    </tr>\n    <tr>\n      <th>494018</th>\n      <td>0</td>\n      <td>291</td>\n      <td>1200</td>\n      <td>0</td>\n      <td>0</td>\n      <td>0</td>\n      <td>0</td>\n      <td>0</td>\n      <td>1</td>\n      <td>0</td>\n      <td>...</td>\n      <td>0</td>\n      <td>0</td>\n      <td>0</td>\n      <td>0</td>\n      <td>0</td>\n      <td>0</td>\n      <td>0</td>\n      <td>0</td>\n      <td>0</td>\n      <td>0</td>\n    </tr>\n    <tr>\n      <th>494019</th>\n      <td>0</td>\n      <td>219</td>\n      <td>1234</td>\n      <td>0</td>\n      <td>0</td>\n      <td>0</td>\n      <td>0</td>\n      <td>0</td>\n      <td>1</td>\n      <td>0</td>\n      <td>...</td>\n      <td>0</td>\n      <td>0</td>\n      <td>0</td>\n      <td>0</td>\n      <td>0</td>\n      <td>0</td>\n      <td>0</td>\n      <td>0</td>\n      <td>0</td>\n      <td>0</td>\n    </tr>\n  </tbody>\n</table>\n<p>494020 rows × 119 columns</p>\n</div>"
     },
     "execution_count": 7,
     "metadata": {},
     "output_type": "execute_result"
    }
   ],
   "source": [
    "one_hot_df"
   ],
   "metadata": {
    "collapsed": false
   }
  },
  {
   "cell_type": "markdown",
   "source": [
    "## 1.3 归一化"
   ],
   "metadata": {
    "collapsed": false
   }
  },
  {
   "cell_type": "code",
   "execution_count": 8,
   "outputs": [],
   "source": [
    "minmax_scale = MinMaxScaler(feature_range=(0, 1))\n",
    "\n",
    "def normalization(df,col):\n",
    "    for i in col:\n",
    "        arr = df[i]\n",
    "        arr = np.array(arr)\n",
    "        df[i] = minmax_scale.fit_transform(arr.reshape(len(arr),1))\n",
    "    return df"
   ],
   "metadata": {
    "collapsed": false
   }
  },
  {
   "cell_type": "code",
   "execution_count": 9,
   "outputs": [
    {
     "data": {
      "text/plain": "        duration     src_bytes  dst_bytes  land  wrong_fragment  urgent  hot  \\\n0            0.0  3.446905e-07   0.000094   0.0             0.0     0.0  0.0   \n1            0.0  3.389216e-07   0.000259   0.0             0.0     0.0  0.0   \n2            0.0  3.158461e-07   0.000259   0.0             0.0     0.0  0.0   \n3            0.0  3.129617e-07   0.000394   0.0             0.0     0.0  0.0   \n4            0.0  3.129617e-07   0.000394   0.0             0.0     0.0  0.0   \n...          ...           ...        ...   ...             ...     ...  ...   \n494015       0.0  4.470881e-07   0.000365   0.0             0.0     0.0  0.0   \n494016       0.0  4.067060e-07   0.000443   0.0             0.0     0.0  0.0   \n494017       0.0  2.927706e-07   0.000233   0.0             0.0     0.0  0.0   \n494018       0.0  4.196859e-07   0.000233   0.0             0.0     0.0  0.0   \n494019       0.0  3.158461e-07   0.000239   0.0             0.0     0.0  0.0   \n\n        num_failed_logins  logged_in  num_compromised  ...  service_telnet  \\\n0                     0.0        1.0              0.0  ...               0   \n1                     0.0        1.0              0.0  ...               0   \n2                     0.0        1.0              0.0  ...               0   \n3                     0.0        1.0              0.0  ...               0   \n4                     0.0        1.0              0.0  ...               0   \n...                   ...        ...              ...  ...             ...   \n494015                0.0        1.0              0.0  ...               0   \n494016                0.0        1.0              0.0  ...               0   \n494017                0.0        1.0              0.0  ...               0   \n494018                0.0        1.0              0.0  ...               0   \n494019                0.0        1.0              0.0  ...               0   \n\n        service_tftp_u  service_tim_i  service_time  service_urh_i  \\\n0                    0              0             0              0   \n1                    0              0             0              0   \n2                    0              0             0              0   \n3                    0              0             0              0   \n4                    0              0             0              0   \n...                ...            ...           ...            ...   \n494015               0              0             0              0   \n494016               0              0             0              0   \n494017               0              0             0              0   \n494018               0              0             0              0   \n494019               0              0             0              0   \n\n        service_urp_i  service_uucp  service_uucp_path  service_vmnet  \\\n0                   0             0                  0              0   \n1                   0             0                  0              0   \n2                   0             0                  0              0   \n3                   0             0                  0              0   \n4                   0             0                  0              0   \n...               ...           ...                ...            ...   \n494015              0             0                  0              0   \n494016              0             0                  0              0   \n494017              0             0                  0              0   \n494018              0             0                  0              0   \n494019              0             0                  0              0   \n\n        service_whois  \n0                   0  \n1                   0  \n2                   0  \n3                   0  \n4                   0  \n...               ...  \n494015              0  \n494016              0  \n494017              0  \n494018              0  \n494019              0  \n\n[494020 rows x 119 columns]",
      "text/html": "<div>\n<style scoped>\n    .dataframe tbody tr th:only-of-type {\n        vertical-align: middle;\n    }\n\n    .dataframe tbody tr th {\n        vertical-align: top;\n    }\n\n    .dataframe thead th {\n        text-align: right;\n    }\n</style>\n<table border=\"1\" class=\"dataframe\">\n  <thead>\n    <tr style=\"text-align: right;\">\n      <th></th>\n      <th>duration</th>\n      <th>src_bytes</th>\n      <th>dst_bytes</th>\n      <th>land</th>\n      <th>wrong_fragment</th>\n      <th>urgent</th>\n      <th>hot</th>\n      <th>num_failed_logins</th>\n      <th>logged_in</th>\n      <th>num_compromised</th>\n      <th>...</th>\n      <th>service_telnet</th>\n      <th>service_tftp_u</th>\n      <th>service_tim_i</th>\n      <th>service_time</th>\n      <th>service_urh_i</th>\n      <th>service_urp_i</th>\n      <th>service_uucp</th>\n      <th>service_uucp_path</th>\n      <th>service_vmnet</th>\n      <th>service_whois</th>\n    </tr>\n  </thead>\n  <tbody>\n    <tr>\n      <th>0</th>\n      <td>0.0</td>\n      <td>3.446905e-07</td>\n      <td>0.000094</td>\n      <td>0.0</td>\n      <td>0.0</td>\n      <td>0.0</td>\n      <td>0.0</td>\n      <td>0.0</td>\n      <td>1.0</td>\n      <td>0.0</td>\n      <td>...</td>\n      <td>0</td>\n      <td>0</td>\n      <td>0</td>\n      <td>0</td>\n      <td>0</td>\n      <td>0</td>\n      <td>0</td>\n      <td>0</td>\n      <td>0</td>\n      <td>0</td>\n    </tr>\n    <tr>\n      <th>1</th>\n      <td>0.0</td>\n      <td>3.389216e-07</td>\n      <td>0.000259</td>\n      <td>0.0</td>\n      <td>0.0</td>\n      <td>0.0</td>\n      <td>0.0</td>\n      <td>0.0</td>\n      <td>1.0</td>\n      <td>0.0</td>\n      <td>...</td>\n      <td>0</td>\n      <td>0</td>\n      <td>0</td>\n      <td>0</td>\n      <td>0</td>\n      <td>0</td>\n      <td>0</td>\n      <td>0</td>\n      <td>0</td>\n      <td>0</td>\n    </tr>\n    <tr>\n      <th>2</th>\n      <td>0.0</td>\n      <td>3.158461e-07</td>\n      <td>0.000259</td>\n      <td>0.0</td>\n      <td>0.0</td>\n      <td>0.0</td>\n      <td>0.0</td>\n      <td>0.0</td>\n      <td>1.0</td>\n      <td>0.0</td>\n      <td>...</td>\n      <td>0</td>\n      <td>0</td>\n      <td>0</td>\n      <td>0</td>\n      <td>0</td>\n      <td>0</td>\n      <td>0</td>\n      <td>0</td>\n      <td>0</td>\n      <td>0</td>\n    </tr>\n    <tr>\n      <th>3</th>\n      <td>0.0</td>\n      <td>3.129617e-07</td>\n      <td>0.000394</td>\n      <td>0.0</td>\n      <td>0.0</td>\n      <td>0.0</td>\n      <td>0.0</td>\n      <td>0.0</td>\n      <td>1.0</td>\n      <td>0.0</td>\n      <td>...</td>\n      <td>0</td>\n      <td>0</td>\n      <td>0</td>\n      <td>0</td>\n      <td>0</td>\n      <td>0</td>\n      <td>0</td>\n      <td>0</td>\n      <td>0</td>\n      <td>0</td>\n    </tr>\n    <tr>\n      <th>4</th>\n      <td>0.0</td>\n      <td>3.129617e-07</td>\n      <td>0.000394</td>\n      <td>0.0</td>\n      <td>0.0</td>\n      <td>0.0</td>\n      <td>0.0</td>\n      <td>0.0</td>\n      <td>1.0</td>\n      <td>0.0</td>\n      <td>...</td>\n      <td>0</td>\n      <td>0</td>\n      <td>0</td>\n      <td>0</td>\n      <td>0</td>\n      <td>0</td>\n      <td>0</td>\n      <td>0</td>\n      <td>0</td>\n      <td>0</td>\n    </tr>\n    <tr>\n      <th>...</th>\n      <td>...</td>\n      <td>...</td>\n      <td>...</td>\n      <td>...</td>\n      <td>...</td>\n      <td>...</td>\n      <td>...</td>\n      <td>...</td>\n      <td>...</td>\n      <td>...</td>\n      <td>...</td>\n      <td>...</td>\n      <td>...</td>\n      <td>...</td>\n      <td>...</td>\n      <td>...</td>\n      <td>...</td>\n      <td>...</td>\n      <td>...</td>\n      <td>...</td>\n      <td>...</td>\n    </tr>\n    <tr>\n      <th>494015</th>\n      <td>0.0</td>\n      <td>4.470881e-07</td>\n      <td>0.000365</td>\n      <td>0.0</td>\n      <td>0.0</td>\n      <td>0.0</td>\n      <td>0.0</td>\n      <td>0.0</td>\n      <td>1.0</td>\n      <td>0.0</td>\n      <td>...</td>\n      <td>0</td>\n      <td>0</td>\n      <td>0</td>\n      <td>0</td>\n      <td>0</td>\n      <td>0</td>\n      <td>0</td>\n      <td>0</td>\n      <td>0</td>\n      <td>0</td>\n    </tr>\n    <tr>\n      <th>494016</th>\n      <td>0.0</td>\n      <td>4.067060e-07</td>\n      <td>0.000443</td>\n      <td>0.0</td>\n      <td>0.0</td>\n      <td>0.0</td>\n      <td>0.0</td>\n      <td>0.0</td>\n      <td>1.0</td>\n      <td>0.0</td>\n      <td>...</td>\n      <td>0</td>\n      <td>0</td>\n      <td>0</td>\n      <td>0</td>\n      <td>0</td>\n      <td>0</td>\n      <td>0</td>\n      <td>0</td>\n      <td>0</td>\n      <td>0</td>\n    </tr>\n    <tr>\n      <th>494017</th>\n      <td>0.0</td>\n      <td>2.927706e-07</td>\n      <td>0.000233</td>\n      <td>0.0</td>\n      <td>0.0</td>\n      <td>0.0</td>\n      <td>0.0</td>\n      <td>0.0</td>\n      <td>1.0</td>\n      <td>0.0</td>\n      <td>...</td>\n      <td>0</td>\n      <td>0</td>\n      <td>0</td>\n      <td>0</td>\n      <td>0</td>\n      <td>0</td>\n      <td>0</td>\n      <td>0</td>\n      <td>0</td>\n      <td>0</td>\n    </tr>\n    <tr>\n      <th>494018</th>\n      <td>0.0</td>\n      <td>4.196859e-07</td>\n      <td>0.000233</td>\n      <td>0.0</td>\n      <td>0.0</td>\n      <td>0.0</td>\n      <td>0.0</td>\n      <td>0.0</td>\n      <td>1.0</td>\n      <td>0.0</td>\n      <td>...</td>\n      <td>0</td>\n      <td>0</td>\n      <td>0</td>\n      <td>0</td>\n      <td>0</td>\n      <td>0</td>\n      <td>0</td>\n      <td>0</td>\n      <td>0</td>\n      <td>0</td>\n    </tr>\n    <tr>\n      <th>494019</th>\n      <td>0.0</td>\n      <td>3.158461e-07</td>\n      <td>0.000239</td>\n      <td>0.0</td>\n      <td>0.0</td>\n      <td>0.0</td>\n      <td>0.0</td>\n      <td>0.0</td>\n      <td>1.0</td>\n      <td>0.0</td>\n      <td>...</td>\n      <td>0</td>\n      <td>0</td>\n      <td>0</td>\n      <td>0</td>\n      <td>0</td>\n      <td>0</td>\n      <td>0</td>\n      <td>0</td>\n      <td>0</td>\n      <td>0</td>\n    </tr>\n  </tbody>\n</table>\n<p>494020 rows × 119 columns</p>\n</div>"
     },
     "execution_count": 9,
     "metadata": {},
     "output_type": "execute_result"
    }
   ],
   "source": [
    "normalized_df = normalization(one_hot_df.copy(), number_col)\n",
    "normalized_df"
   ],
   "metadata": {
    "collapsed": false
   }
  },
  {
   "cell_type": "markdown",
   "source": [
    "## 1.4 标签编码"
   ],
   "metadata": {
    "collapsed": false
   }
  },
  {
   "cell_type": "code",
   "execution_count": 10,
   "outputs": [
    {
     "data": {
      "text/plain": "array(['back.', 'buffer_overflow.', 'ftp_write.', 'guess_passwd.',\n       'imap.', 'ipsweep.', 'land.', 'loadmodule.', 'multihop.',\n       'neptune.', 'nmap.', 'normal.', 'perl.', 'phf.', 'pod.',\n       'portsweep.', 'rootkit.', 'satan.', 'smurf.', 'spy.', 'teardrop.',\n       'warezclient.', 'warezmaster.'], dtype=object)"
     },
     "execution_count": 10,
     "metadata": {},
     "output_type": "execute_result"
    }
   ],
   "source": [
    "# 为不同的类别进行编码\n",
    "labels = pd.DataFrame(df.label)\n",
    "label_encoder = LabelEncoder()\n",
    "enc_label = labels.apply(label_encoder.fit_transform)\n",
    "normalized_df.label = enc_label\n",
    "label_encoder.classes_"
   ],
   "metadata": {
    "collapsed": false
   }
  },
  {
   "cell_type": "code",
   "execution_count": 11,
   "outputs": [],
   "source": [
    "data = normalized_df"
   ],
   "metadata": {
    "collapsed": false
   }
  },
  {
   "cell_type": "markdown",
   "source": [
    "# 2 定义训练参数\n",
    "## 2.1 数据加载"
   ],
   "metadata": {
    "collapsed": false
   }
  },
  {
   "cell_type": "code",
   "execution_count": 12,
   "outputs": [],
   "source": [
    "X = data.drop(columns=['label'])\n",
    "y = data['label']\n",
    "X_train, X_test, y_train, y_test = train_test_split(X, y, test_size=0.20, random_state=50)"
   ],
   "metadata": {
    "collapsed": false
   }
  },
  {
   "cell_type": "code",
   "execution_count": 13,
   "outputs": [],
   "source": [
    "class LoadData(Dataset):\n",
    "    def __init__(self, X, y):\n",
    "        self.X = X\n",
    "        self.y = y\n",
    "\n",
    "    def __len__(self):\n",
    "        return len(self.X)\n",
    "\n",
    "    def __getitem__(self, index):\n",
    "        X = torch.tensor(self.X.iloc[index])\n",
    "        y = torch.tensor(self.y.iloc[index])\n",
    "        return X, y"
   ],
   "metadata": {
    "collapsed": false
   }
  },
  {
   "cell_type": "code",
   "execution_count": 14,
   "outputs": [],
   "source": [
    "train_data = LoadData(X_train, y_train)\n",
    "test_data = LoadData(X_test, y_test)"
   ],
   "metadata": {
    "collapsed": false
   }
  },
  {
   "cell_type": "code",
   "execution_count": 15,
   "outputs": [
    {
     "name": "stdout",
     "output_type": "stream",
     "text": [
      "X的维度：118\n",
      "y的维度：23\n"
     ]
    }
   ],
   "source": [
    "X_dimension = len(X_train.columns)\n",
    "y_dimension = len(y_train.value_counts())\n",
    "print(f\"X的维度：{X_dimension}\")\n",
    "print(f\"y的维度：{y_dimension}\")"
   ],
   "metadata": {
    "collapsed": false
   }
  },
  {
   "cell_type": "code",
   "execution_count": 16,
   "outputs": [],
   "source": [
    "batch_size = 128\n",
    "\n",
    "train_dataloader = DataLoader(train_data, batch_size=batch_size)\n",
    "test_dataloader = DataLoader(test_data, batch_size=batch_size)"
   ],
   "metadata": {
    "collapsed": false
   }
  },
  {
   "cell_type": "markdown",
   "source": [
    "## 2.2 训练函数与测试函数"
   ],
   "metadata": {
    "collapsed": false
   }
  },
  {
   "cell_type": "code",
   "execution_count": 17,
   "outputs": [],
   "source": [
    "device = 'cuda:0' if torch.cuda.is_available() else 'cpu'"
   ],
   "metadata": {
    "collapsed": false
   }
  },
  {
   "cell_type": "code",
   "execution_count": 18,
   "outputs": [],
   "source": [
    "def train(model, optimizer, loss_fn, epochs):\n",
    "\n",
    "    losses = []\n",
    "    iter = 0\n",
    "\n",
    "    for epoch in range(epochs):\n",
    "        print(f\"epoch {epoch+1}\\n-----------------\")\n",
    "        for i, (X, y) in enumerate(train_dataloader):\n",
    "            X, y = X.to(device).to(torch.float32), y.to(device).to(torch.float32)\n",
    "            X = X.reshape(X.shape[0], 1, X_dimension)\n",
    "            y_pred = model(X)\n",
    "            loss = loss_fn(y_pred, y.long())\n",
    "\n",
    "            optimizer.zero_grad()\n",
    "            loss.backward()\n",
    "            optimizer.step()\n",
    "\n",
    "            if i % 100 == 0:\n",
    "                print(f\"loss: {loss.item()}\\t[{(i+1)*len(X)}/{len(train_data)}]\")\n",
    "\n",
    "                iter += 1\n",
    "                losses.append(loss.item())\n",
    "\n",
    "    return losses, iter"
   ],
   "metadata": {
    "collapsed": false
   }
  },
  {
   "cell_type": "code",
   "execution_count": 19,
   "outputs": [],
   "source": [
    "def test(model):\n",
    "    positive = 0\n",
    "    negative = 0\n",
    "    with torch.no_grad():\n",
    "        iter = 0\n",
    "        loss_sum = 0\n",
    "        for X, y in test_dataloader:\n",
    "            X, y = X.to(device).to(torch.float32), y.to(device).to(torch.float32)\n",
    "            X = X.reshape(X.shape[0], 1, X_dimension)\n",
    "            y_pred = model(X)\n",
    "            loss = loss_fn(y_pred, y.long())\n",
    "            loss_sum += loss.item()\n",
    "            iter += 1\n",
    "            for item in zip(y_pred, y):\n",
    "                if torch.argmax(item[0]) == item[1]:\n",
    "                    positive += 1\n",
    "                else:\n",
    "                    negative += 1\n",
    "    acc = positive / (positive + negative)\n",
    "    avg_loss = loss_sum / iter\n",
    "    print(\"Accuracy:\", acc)\n",
    "    print(\"Average Loss:\", avg_loss)"
   ],
   "metadata": {
    "collapsed": false
   }
  },
  {
   "cell_type": "code",
   "execution_count": 20,
   "outputs": [],
   "source": [
    "def loss_value_plot(losses, iter):\n",
    "    plt.figure()\n",
    "    plt.plot([i for i in range(1, iter+1)], losses)\n",
    "    plt.xlabel('Iterations (×100)')\n",
    "    plt.ylabel('Loss Value')"
   ],
   "metadata": {
    "collapsed": false
   }
  },
  {
   "cell_type": "markdown",
   "source": [
    "# 2 DNN分类"
   ],
   "metadata": {
    "collapsed": false
   }
  },
  {
   "cell_type": "code",
   "execution_count": 21,
   "outputs": [],
   "source": [
    "class DNN(nn.Module):\n",
    "    def __init__(self):\n",
    "        super().__init__()\n",
    "        self.flatten = nn.Flatten()\n",
    "        self.network = nn.Sequential(\n",
    "            nn.Linear(X_dimension, 64),\n",
    "            nn.ReLU(),\n",
    "            nn.Linear(64, 64),\n",
    "            nn.ReLU(),\n",
    "            nn.Linear(64, y_dimension)\n",
    "        )\n",
    "\n",
    "    def forward(self, X):\n",
    "        X = self.flatten(X)\n",
    "        logits = self.network(X)\n",
    "        return logits"
   ],
   "metadata": {
    "collapsed": false
   }
  },
  {
   "cell_type": "code",
   "execution_count": 22,
   "outputs": [
    {
     "data": {
      "text/plain": "DNN(\n  (flatten): Flatten(start_dim=1, end_dim=-1)\n  (network): Sequential(\n    (0): Linear(in_features=118, out_features=64, bias=True)\n    (1): ReLU()\n    (2): Linear(in_features=64, out_features=64, bias=True)\n    (3): ReLU()\n    (4): Linear(in_features=64, out_features=23, bias=True)\n  )\n)"
     },
     "execution_count": 22,
     "metadata": {},
     "output_type": "execute_result"
    }
   ],
   "source": [
    "DNN_model = DNN()\n",
    "DNN_model.to(device=device)"
   ],
   "metadata": {
    "collapsed": false
   }
  },
  {
   "cell_type": "code",
   "execution_count": 23,
   "outputs": [],
   "source": [
    "# 超参数\n",
    "epochs = 5\n",
    "lr = 1e-3\n",
    "momentum = 0.9\n",
    "optimizer = torch.optim.SGD(DNN_model.parameters(), lr=lr, momentum=momentum)\n",
    "loss_fn = nn.CrossEntropyLoss()"
   ],
   "metadata": {
    "collapsed": false
   }
  },
  {
   "cell_type": "code",
   "execution_count": 24,
   "outputs": [
    {
     "name": "stdout",
     "output_type": "stream",
     "text": [
      "epoch 1\n",
      "-----------------\n",
      "loss: 3.134882926940918\t[128/395216]\n",
      "loss: 2.176708221435547\t[12928/395216]\n",
      "loss: 1.1490696668624878\t[25728/395216]\n",
      "loss: 0.7075681090354919\t[38528/395216]\n",
      "loss: 0.6075488328933716\t[51328/395216]\n",
      "loss: 0.27597540616989136\t[64128/395216]\n",
      "loss: 0.35827210545539856\t[76928/395216]\n",
      "loss: 0.1927800178527832\t[89728/395216]\n",
      "loss: 0.25929024815559387\t[102528/395216]\n",
      "loss: 0.11690784245729446\t[115328/395216]\n",
      "loss: 0.19166137278079987\t[128128/395216]\n",
      "loss: 0.27056199312210083\t[140928/395216]\n",
      "loss: 0.13259389996528625\t[153728/395216]\n",
      "loss: 0.028464939445257187\t[166528/395216]\n",
      "loss: 0.07683777809143066\t[179328/395216]\n",
      "loss: 0.10976676642894745\t[192128/395216]\n",
      "loss: 0.11947984993457794\t[204928/395216]\n",
      "loss: 0.06525354087352753\t[217728/395216]\n",
      "loss: 0.07288989424705505\t[230528/395216]\n",
      "loss: 0.20466047525405884\t[243328/395216]\n",
      "loss: 0.24043118953704834\t[256128/395216]\n",
      "loss: 0.09496397525072098\t[268928/395216]\n",
      "loss: 0.18464159965515137\t[281728/395216]\n",
      "loss: 0.02231147699058056\t[294528/395216]\n",
      "loss: 0.05341560021042824\t[307328/395216]\n",
      "loss: 0.13946345448493958\t[320128/395216]\n",
      "loss: 0.12904223799705505\t[332928/395216]\n",
      "loss: 0.13306590914726257\t[345728/395216]\n",
      "loss: 0.09533222019672394\t[358528/395216]\n",
      "loss: 0.03151727840304375\t[371328/395216]\n",
      "loss: 0.09211331605911255\t[384128/395216]\n",
      "epoch 2\n",
      "-----------------\n",
      "loss: 0.10159306228160858\t[128/395216]\n",
      "loss: 0.059212759137153625\t[12928/395216]\n",
      "loss: 0.1674816906452179\t[25728/395216]\n",
      "loss: 0.11659341305494308\t[38528/395216]\n",
      "loss: 0.21262991428375244\t[51328/395216]\n",
      "loss: 0.08594455569982529\t[64128/395216]\n",
      "loss: 0.1984751671552658\t[76928/395216]\n",
      "loss: 0.08875110745429993\t[89728/395216]\n",
      "loss: 0.16590648889541626\t[102528/395216]\n",
      "loss: 0.054977405816316605\t[115328/395216]\n",
      "loss: 0.10722038894891739\t[128128/395216]\n",
      "loss: 0.1707696169614792\t[140928/395216]\n",
      "loss: 0.09257078170776367\t[153728/395216]\n",
      "loss: 0.014108356088399887\t[166528/395216]\n",
      "loss: 0.05362330749630928\t[179328/395216]\n",
      "loss: 0.08252301812171936\t[192128/395216]\n",
      "loss: 0.08706553280353546\t[204928/395216]\n",
      "loss: 0.042860161513090134\t[217728/395216]\n",
      "loss: 0.05199046805500984\t[230528/395216]\n",
      "loss: 0.1479370892047882\t[243328/395216]\n",
      "loss: 0.1780516356229782\t[256128/395216]\n",
      "loss: 0.07746021449565887\t[268928/395216]\n",
      "loss: 0.1452297866344452\t[281728/395216]\n",
      "loss: 0.016516143456101418\t[294528/395216]\n",
      "loss: 0.038455553352832794\t[307328/395216]\n",
      "loss: 0.12160725891590118\t[320128/395216]\n",
      "loss: 0.10729911178350449\t[332928/395216]\n",
      "loss: 0.11507607251405716\t[345728/395216]\n",
      "loss: 0.07923957705497742\t[358528/395216]\n",
      "loss: 0.026555219665169716\t[371328/395216]\n",
      "loss: 0.07777591049671173\t[384128/395216]\n",
      "epoch 3\n",
      "-----------------\n",
      "loss: 0.08696534484624863\t[128/395216]\n",
      "loss: 0.04995757341384888\t[12928/395216]\n",
      "loss: 0.14235840737819672\t[25728/395216]\n",
      "loss: 0.09751566499471664\t[38528/395216]\n",
      "loss: 0.16898301243782043\t[51328/395216]\n",
      "loss: 0.0711534395813942\t[64128/395216]\n",
      "loss: 0.1773383766412735\t[76928/395216]\n",
      "loss: 0.07198398560285568\t[89728/395216]\n",
      "loss: 0.14769521355628967\t[102528/395216]\n",
      "loss: 0.050537172704935074\t[115328/395216]\n",
      "loss: 0.08893944323062897\t[128128/395216]\n",
      "loss: 0.13958923518657684\t[140928/395216]\n",
      "loss: 0.07856786996126175\t[153728/395216]\n",
      "loss: 0.012343249283730984\t[166528/395216]\n",
      "loss: 0.0449017696082592\t[179328/395216]\n",
      "loss: 0.07327341288328171\t[192128/395216]\n",
      "loss: 0.0795360580086708\t[204928/395216]\n",
      "loss: 0.03481670469045639\t[217728/395216]\n",
      "loss: 0.045779839158058167\t[230528/395216]\n",
      "loss: 0.13602980971336365\t[243328/395216]\n",
      "loss: 0.15700607001781464\t[256128/395216]\n",
      "loss: 0.06495602428913116\t[268928/395216]\n",
      "loss: 0.13123248517513275\t[281728/395216]\n",
      "loss: 0.014356730505824089\t[294528/395216]\n",
      "loss: 0.03164032846689224\t[307328/395216]\n",
      "loss: 0.111817866563797\t[320128/395216]\n",
      "loss: 0.0979558601975441\t[332928/395216]\n",
      "loss: 0.1019321009516716\t[345728/395216]\n",
      "loss: 0.06903842091560364\t[358528/395216]\n",
      "loss: 0.024674201384186745\t[371328/395216]\n",
      "loss: 0.06800960749387741\t[384128/395216]\n",
      "epoch 4\n",
      "-----------------\n",
      "loss: 0.08418380469083786\t[128/395216]\n",
      "loss: 0.04761273413896561\t[12928/395216]\n",
      "loss: 0.1323121190071106\t[25728/395216]\n",
      "loss: 0.08593177050352097\t[38528/395216]\n",
      "loss: 0.14107373356819153\t[51328/395216]\n",
      "loss: 0.06010252982378006\t[64128/395216]\n",
      "loss: 0.1669851690530777\t[76928/395216]\n",
      "loss: 0.05951445922255516\t[89728/395216]\n",
      "loss: 0.13541573286056519\t[102528/395216]\n",
      "loss: 0.04907270520925522\t[115328/395216]\n",
      "loss: 0.07888428866863251\t[128128/395216]\n",
      "loss: 0.12062915414571762\t[140928/395216]\n",
      "loss: 0.06864336133003235\t[153728/395216]\n",
      "loss: 0.011363809928297997\t[166528/395216]\n",
      "loss: 0.03862692043185234\t[179328/395216]\n",
      "loss: 0.06665728986263275\t[192128/395216]\n",
      "loss: 0.07483603805303574\t[204928/395216]\n",
      "loss: 0.029827281832695007\t[217728/395216]\n",
      "loss: 0.042891379445791245\t[230528/395216]\n",
      "loss: 0.1294478327035904\t[243328/395216]\n",
      "loss: 0.143795907497406\t[256128/395216]\n",
      "loss: 0.05555024370551109\t[268928/395216]\n",
      "loss: 0.12107770889997482\t[281728/395216]\n",
      "loss: 0.012890489771962166\t[294528/395216]\n",
      "loss: 0.027208639308810234\t[307328/395216]\n",
      "loss: 0.10498600453138351\t[320128/395216]\n",
      "loss: 0.09130203723907471\t[332928/395216]\n",
      "loss: 0.09186453372240067\t[345728/395216]\n",
      "loss: 0.0609063059091568\t[358528/395216]\n",
      "loss: 0.023120764642953873\t[371328/395216]\n",
      "loss: 0.061032265424728394\t[384128/395216]\n",
      "epoch 5\n",
      "-----------------\n",
      "loss: 0.08209346234798431\t[128/395216]\n",
      "loss: 0.0459018312394619\t[12928/395216]\n",
      "loss: 0.12508562207221985\t[25728/395216]\n",
      "loss: 0.07817442715167999\t[38528/395216]\n",
      "loss: 0.12105397135019302\t[51328/395216]\n",
      "loss: 0.05204606056213379\t[64128/395216]\n",
      "loss: 0.1585390716791153\t[76928/395216]\n",
      "loss: 0.049976035952568054\t[89728/395216]\n",
      "loss: 0.1259932518005371\t[102528/395216]\n",
      "loss: 0.04754160717129707\t[115328/395216]\n",
      "loss: 0.07112059742212296\t[128128/395216]\n",
      "loss: 0.10638677328824997\t[140928/395216]\n",
      "loss: 0.06066511943936348\t[153728/395216]\n",
      "loss: 0.010595609433948994\t[166528/395216]\n",
      "loss: 0.03386111930012703\t[179328/395216]\n",
      "loss: 0.06081589311361313\t[192128/395216]\n",
      "loss: 0.07066936790943146\t[204928/395216]\n",
      "loss: 0.02583356946706772\t[217728/395216]\n",
      "loss: 0.04147273302078247\t[230528/395216]\n",
      "loss: 0.12409510463476181\t[243328/395216]\n",
      "loss: 0.13349981606006622\t[256128/395216]\n",
      "loss: 0.04819394648075104\t[268928/395216]\n",
      "loss: 0.11261971294879913\t[281728/395216]\n",
      "loss: 0.011715061962604523\t[294528/395216]\n",
      "loss: 0.023543667048215866\t[307328/395216]\n",
      "loss: 0.09998155385255814\t[320128/395216]\n",
      "loss: 0.08572911471128464\t[332928/395216]\n",
      "loss: 0.08363417536020279\t[345728/395216]\n",
      "loss: 0.05382339656352997\t[358528/395216]\n",
      "loss: 0.021793579682707787\t[371328/395216]\n",
      "loss: 0.05572928860783577\t[384128/395216]\n"
     ]
    },
    {
     "data": {
      "text/plain": "<Figure size 640x480 with 1 Axes>",
      "image/png": "[encoded data removed]"
     },
     "metadata": {},
     "output_type": "display_data"
    }
   ],
   "source": [
    "if os.path.exists('DNN_model.pth'):\n",
    "    DNN_model.load_state_dict(torch.load('DNN_model.pth'))\n",
    "else:\n",
    "    losses, iter = train(DNN_model, optimizer, loss_fn, epochs)\n",
    "    torch.save(DNN_model.state_dict(), 'DNN_model.pth')\n",
    "\n",
    "    loss_value_plot(losses, iter)\n",
    "    plt.savefig('DNN_loss.png')"
   ],
   "metadata": {
    "collapsed": false
   }
  },
  {
   "cell_type": "code",
   "execution_count": 25,
   "outputs": [
    {
     "name": "stdout",
     "output_type": "stream",
     "text": [
      "Accuracy: 0.983533055341889\n",
      "Average Loss: 0.06500975082753892\n"
     ]
    }
   ],
   "source": [
    "test(DNN_model)"
   ],
   "metadata": {
    "collapsed": false
   }
  },
  {
   "cell_type": "markdown",
   "source": [
    "# 3 CNN分类"
   ],
   "metadata": {
    "collapsed": false
   }
  },
  {
   "cell_type": "code",
   "execution_count": 26,
   "outputs": [],
   "source": [
    "class CNN(nn.Module):\n",
    "    def __init__(self):\n",
    "        super().__init__()\n",
    "        self.backbone = nn.Sequential(\n",
    "            nn.Conv1d(1, 3, kernel_size=2),\n",
    "            nn.MaxPool1d(2, 2),\n",
    "            nn.Conv1d(3, 8, kernel_size=2),\n",
    "            nn.MaxPool1d(2, 2),\n",
    "            nn.Conv1d(8, 16, kernel_size=2)\n",
    "        )\n",
    "        self.flatten = nn.Flatten()\n",
    "        self.fc = nn.Sequential(\n",
    "            nn.Linear(432, 64),\n",
    "            nn.ReLU(),\n",
    "            nn.Linear(64, 64),\n",
    "            nn.ReLU(),\n",
    "            nn.Linear(64, y_dimension)\n",
    "        )\n",
    "\n",
    "    def forward(self, X):\n",
    "        X = self.backbone(X)\n",
    "        X = self.flatten(X)\n",
    "        logits = self.fc(X)\n",
    "        return logits"
   ],
   "metadata": {
    "collapsed": false
   }
  },
  {
   "cell_type": "code",
   "execution_count": 27,
   "outputs": [
    {
     "data": {
      "text/plain": "CNN(\n  (backbone): Sequential(\n    (0): Conv1d(1, 3, kernel_size=(2,), stride=(1,))\n    (1): MaxPool1d(kernel_size=2, stride=2, padding=0, dilation=1, ceil_mode=False)\n    (2): Conv1d(3, 8, kernel_size=(2,), stride=(1,))\n    (3): MaxPool1d(kernel_size=2, stride=2, padding=0, dilation=1, ceil_mode=False)\n    (4): Conv1d(8, 16, kernel_size=(2,), stride=(1,))\n  )\n  (flatten): Flatten(start_dim=1, end_dim=-1)\n  (fc): Sequential(\n    (0): Linear(in_features=432, out_features=64, bias=True)\n    (1): ReLU()\n    (2): Linear(in_features=64, out_features=64, bias=True)\n    (3): ReLU()\n    (4): Linear(in_features=64, out_features=23, bias=True)\n  )\n)"
     },
     "execution_count": 27,
     "metadata": {},
     "output_type": "execute_result"
    }
   ],
   "source": [
    "CNN_model = CNN()\n",
    "CNN_model.to(device=device)"
   ],
   "metadata": {
    "collapsed": false
   }
  },
  {
   "cell_type": "code",
   "execution_count": 28,
   "outputs": [],
   "source": [
    "epochs = 5\n",
    "lr = 1e-3\n",
    "momentum = 0.9\n",
    "optimizer = torch.optim.SGD(CNN_model.parameters(), lr=lr, momentum=momentum)\n",
    "loss_fn = nn.CrossEntropyLoss()"
   ],
   "metadata": {
    "collapsed": false
   }
  },
  {
   "cell_type": "code",
   "execution_count": 29,
   "outputs": [
    {
     "name": "stdout",
     "output_type": "stream",
     "text": [
      "epoch 1\n",
      "-----------------\n",
      "loss: 3.1373486518859863\t[128/395216]\n",
      "loss: 1.6482046842575073\t[12928/395216]\n",
      "loss: 1.1735459566116333\t[25728/395216]\n",
      "loss: 1.0620378255844116\t[38528/395216]\n",
      "loss: 1.2345057725906372\t[51328/395216]\n",
      "loss: 0.8918551206588745\t[64128/395216]\n",
      "loss: 0.8528152108192444\t[76928/395216]\n",
      "loss: 0.4842202067375183\t[89728/395216]\n",
      "loss: 0.37086164951324463\t[102528/395216]\n",
      "loss: 0.12341561168432236\t[115328/395216]\n",
      "loss: 0.17668868601322174\t[128128/395216]\n",
      "loss: 0.23058491945266724\t[140928/395216]\n",
      "loss: 0.11545906960964203\t[153728/395216]\n",
      "loss: 0.022422321140766144\t[166528/395216]\n",
      "loss: 0.06419384479522705\t[179328/395216]\n",
      "loss: 0.09163370728492737\t[192128/395216]\n",
      "loss: 0.09133359789848328\t[204928/395216]\n",
      "loss: 0.047628555446863174\t[217728/395216]\n",
      "loss: 0.09063015133142471\t[230528/395216]\n",
      "loss: 0.14242912828922272\t[243328/395216]\n",
      "loss: 0.1540723443031311\t[256128/395216]\n",
      "loss: 0.07569541782140732\t[268928/395216]\n",
      "loss: 0.14116448163986206\t[281728/395216]\n",
      "loss: 0.016145288944244385\t[294528/395216]\n",
      "loss: 0.03246114030480385\t[307328/395216]\n",
      "loss: 0.11007000505924225\t[320128/395216]\n",
      "loss: 0.10661540925502777\t[332928/395216]\n",
      "loss: 0.11042070388793945\t[345728/395216]\n",
      "loss: 0.06964936852455139\t[358528/395216]\n",
      "loss: 0.015428945422172546\t[371328/395216]\n",
      "loss: 0.06961412727832794\t[384128/395216]\n",
      "epoch 2\n",
      "-----------------\n",
      "loss: 0.08349873870611191\t[128/395216]\n",
      "loss: 0.049670085310935974\t[12928/395216]\n",
      "loss: 0.1393054872751236\t[25728/395216]\n",
      "loss: 0.09115393459796906\t[38528/395216]\n",
      "loss: 0.11641824245452881\t[51328/395216]\n",
      "loss: 0.055748216807842255\t[64128/395216]\n",
      "loss: 0.16626138985157013\t[76928/395216]\n",
      "loss: 0.04863734915852547\t[89728/395216]\n",
      "loss: 0.13971936702728271\t[102528/395216]\n",
      "loss: 0.04758848622441292\t[115328/395216]\n",
      "loss: 0.06657237559556961\t[128128/395216]\n",
      "loss: 0.09092625975608826\t[140928/395216]\n",
      "loss: 0.06496675312519073\t[153728/395216]\n",
      "loss: 0.01155753806233406\t[166528/395216]\n",
      "loss: 0.0343039333820343\t[179328/395216]\n",
      "loss: 0.06315314769744873\t[192128/395216]\n",
      "loss: 0.07507307827472687\t[204928/395216]\n",
      "loss: 0.019163673743605614\t[217728/395216]\n",
      "loss: 0.08237012475728989\t[230528/395216]\n",
      "loss: 0.15316858887672424\t[243328/395216]\n",
      "loss: 0.10475888848304749\t[256128/395216]\n",
      "loss: 0.045728132128715515\t[268928/395216]\n",
      "loss: 0.10616375505924225\t[281728/395216]\n",
      "loss: 0.010646028444170952\t[294528/395216]\n",
      "loss: 0.014216679148375988\t[307328/395216]\n",
      "loss: 0.08841889351606369\t[320128/395216]\n",
      "loss: 0.08299587666988373\t[332928/395216]\n",
      "loss: 0.06957217305898666\t[345728/395216]\n",
      "loss: 0.043542128056287766\t[358528/395216]\n",
      "loss: 0.014836658723652363\t[371328/395216]\n",
      "loss: 0.05597853660583496\t[384128/395216]\n",
      "epoch 3\n",
      "-----------------\n",
      "loss: 0.07694167643785477\t[128/395216]\n",
      "loss: 0.042064543813467026\t[12928/395216]\n",
      "loss: 0.12157712131738663\t[25728/395216]\n",
      "loss: 0.07327954471111298\t[38528/395216]\n",
      "loss: 0.07345478981733322\t[51328/395216]\n",
      "loss: 0.03550726920366287\t[64128/395216]\n",
      "loss: 0.13435064256191254\t[76928/395216]\n",
      "loss: 0.02722419984638691\t[89728/395216]\n",
      "loss: 0.11137742549180984\t[102528/395216]\n",
      "loss: 0.03839405998587608\t[115328/395216]\n",
      "loss: 0.048224762082099915\t[128128/395216]\n",
      "loss: 0.055421024560928345\t[140928/395216]\n",
      "loss: 0.046623941510915756\t[153728/395216]\n",
      "loss: 0.01339714229106903\t[166528/395216]\n",
      "loss: 0.022148409858345985\t[179328/395216]\n",
      "loss: 0.05077655613422394\t[192128/395216]\n",
      "loss: 0.06084126606583595\t[204928/395216]\n",
      "loss: 0.013600705191493034\t[217728/395216]\n",
      "loss: 0.10042889416217804\t[230528/395216]\n",
      "loss: 0.16255030035972595\t[243328/395216]\n",
      "loss: 0.08746157586574554\t[256128/395216]\n",
      "loss: 0.028250722214579582\t[268928/395216]\n",
      "loss: 0.091466523706913\t[281728/395216]\n",
      "loss: 0.00914222002029419\t[294528/395216]\n",
      "loss: 0.010353407822549343\t[307328/395216]\n",
      "loss: 0.08449999988079071\t[320128/395216]\n",
      "loss: 0.07056839764118195\t[332928/395216]\n",
      "loss: 0.05186087265610695\t[345728/395216]\n",
      "loss: 0.02967999316751957\t[358528/395216]\n",
      "loss: 0.015209851786494255\t[371328/395216]\n",
      "loss: 0.0485418327152729\t[384128/395216]\n",
      "epoch 4\n",
      "-----------------\n",
      "loss: 0.06766467541456223\t[128/395216]\n",
      "loss: 0.03871264308691025\t[12928/395216]\n",
      "loss: 0.10741999745368958\t[25728/395216]\n",
      "loss: 0.0646500289440155\t[38528/395216]\n",
      "loss: 0.05421576276421547\t[51328/395216]\n",
      "loss: 0.026794906705617905\t[64128/395216]\n",
      "loss: 0.11025380343198776\t[76928/395216]\n",
      "loss: 0.01735612191259861\t[89728/395216]\n",
      "loss: 0.08454965800046921\t[102528/395216]\n",
      "loss: 0.034300997853279114\t[115328/395216]\n",
      "loss: 0.043546874076128006\t[128128/395216]\n",
      "loss: 0.04294919595122337\t[140928/395216]\n",
      "loss: 0.030247438699007034\t[153728/395216]\n",
      "loss: 0.01426964346319437\t[166528/395216]\n",
      "loss: 0.016260599717497826\t[179328/395216]\n",
      "loss: 0.035833824425935745\t[192128/395216]\n",
      "loss: 0.04813242703676224\t[204928/395216]\n",
      "loss: 0.012584459036588669\t[217728/395216]\n",
      "loss: 0.122804656624794\t[230528/395216]\n",
      "loss: 0.17203472554683685\t[243328/395216]\n",
      "loss: 0.0807596892118454\t[256128/395216]\n",
      "loss: 0.019147144630551338\t[268928/395216]\n",
      "loss: 0.0844288319349289\t[281728/395216]\n",
      "loss: 0.009112035855650902\t[294528/395216]\n",
      "loss: 0.009040973149240017\t[307328/395216]\n",
      "loss: 0.0823700800538063\t[320128/395216]\n",
      "loss: 0.06341816484928131\t[332928/395216]\n",
      "loss: 0.044423893094062805\t[345728/395216]\n",
      "loss: 0.021051732823252678\t[358528/395216]\n",
      "loss: 0.014739393256604671\t[371328/395216]\n",
      "loss: 0.042004913091659546\t[384128/395216]\n",
      "epoch 5\n",
      "-----------------\n",
      "loss: 0.0631476640701294\t[128/395216]\n",
      "loss: 0.03768192231655121\t[12928/395216]\n",
      "loss: 0.09526873379945755\t[25728/395216]\n",
      "loss: 0.055624619126319885\t[38528/395216]\n",
      "loss: 0.039843205362558365\t[51328/395216]\n",
      "loss: 0.02011086232960224\t[64128/395216]\n",
      "loss: 0.0954376682639122\t[76928/395216]\n",
      "loss: 0.01174226775765419\t[89728/395216]\n",
      "loss: 0.0626772791147232\t[102528/395216]\n",
      "loss: 0.032691214233636856\t[115328/395216]\n",
      "loss: 0.041806790977716446\t[128128/395216]\n",
      "loss: 0.037001561373472214\t[140928/395216]\n",
      "loss: 0.01913084089756012\t[153728/395216]\n",
      "loss: 0.013877736404538155\t[166528/395216]\n",
      "loss: 0.012943810783326626\t[179328/395216]\n",
      "loss: 0.024947788566350937\t[192128/395216]\n",
      "loss: 0.04035266488790512\t[204928/395216]\n",
      "loss: 0.012501209042966366\t[217728/395216]\n",
      "loss: 0.13856425881385803\t[230528/395216]\n",
      "loss: 0.17487695813179016\t[243328/395216]\n",
      "loss: 0.07522021979093552\t[256128/395216]\n",
      "loss: 0.014010356739163399\t[268928/395216]\n",
      "loss: 0.08001837134361267\t[281728/395216]\n",
      "loss: 0.00949259102344513\t[294528/395216]\n",
      "loss: 0.008334608748555183\t[307328/395216]\n",
      "loss: 0.07921756058931351\t[320128/395216]\n",
      "loss: 0.05793938785791397\t[332928/395216]\n",
      "loss: 0.04109621047973633\t[345728/395216]\n",
      "loss: 0.015824077650904655\t[358528/395216]\n",
      "loss: 0.014241164550185204\t[371328/395216]\n",
      "loss: 0.03493933379650116\t[384128/395216]\n"
     ]
    },
    {
     "data": {
      "text/plain": "<Figure size 640x480 with 1 Axes>",
      "image/png": "[encoded data removed]"
     },
     "metadata": {},
     "output_type": "display_data"
    }
   ],
   "source": [
    "if os.path.exists('CNN_model.pth'):\n",
    "    CNN_model.load_state_dict(torch.load('CNN_model.pth'))\n",
    "else:\n",
    "    losses, iter = train(CNN_model, optimizer, loss_fn, epochs)\n",
    "    torch.save(CNN_model.state_dict(), 'CNN_model.pth')\n",
    "\n",
    "    loss_value_plot(losses, iter)\n",
    "    plt.savefig('CNN_loss.png')"
   ],
   "metadata": {
    "collapsed": false
   }
  },
  {
   "cell_type": "code",
   "execution_count": 30,
   "outputs": [
    {
     "name": "stdout",
     "output_type": "stream",
     "text": [
      "Accuracy: 0.9909720254240719\n",
      "Average Loss: 0.03754618972566442\n"
     ]
    }
   ],
   "source": [
    "test(CNN_model)"
   ],
   "metadata": {
    "collapsed": false
   }
  },
  {
   "cell_type": "code",
   "execution_count": 30,
   "outputs": [],
   "source": [],
   "metadata": {
    "collapsed": false
   }
  }
 ],
 "metadata": {
  "kernelspec": {
   "display_name": "Python 3",
   "language": "python",
   "name": "python3"
  },
  "language_info": {
   "codemirror_mode": {
    "name": "ipython",
    "version": 2
   },
   "file_extension": ".py",
   "mimetype": "text/x-python",
   "name": "python",
   "nbconvert_exporter": "python",
   "pygments_lexer": "ipython2",
   "version": "2.7.6"
  }
 },
 "nbformat": 4,
 "nbformat_minor": 0
}
